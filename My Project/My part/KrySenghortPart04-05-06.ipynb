{
 "cells": [
  {
   "attachments": {},
   "cell_type": "markdown",
   "metadata": {},
   "source": [
    "# <b><p style='text-align:center'><font color = yellow>Part 04 : Statistical Analysis"
   ]
  },
  {
   "attachments": {},
   "cell_type": "markdown",
   "metadata": {},
   "source": [
    "### <font color = yellow>I.) Identify the model"
   ]
  },
  {
   "attachments": {},
   "cell_type": "markdown",
   "metadata": {},
   "source": [
    "<font color = green|>a.) Check the interaction effect between regressors"
   ]
  },
  {
   "cell_type": "code",
   "execution_count": 102,
   "metadata": {},
   "outputs": [],
   "source": [
    "import numpy as np\n",
    "import pandas as pd \n",
    "import matplotlib as plt\n",
    "import seaborn as sns"
   ]
  },
  {
   "cell_type": "code",
   "execution_count": 103,
   "metadata": {},
   "outputs": [
    {
     "data": {
      "text/html": [
       "<div>\n",
       "<style scoped>\n",
       "    .dataframe tbody tr th:only-of-type {\n",
       "        vertical-align: middle;\n",
       "    }\n",
       "\n",
       "    .dataframe tbody tr th {\n",
       "        vertical-align: top;\n",
       "    }\n",
       "\n",
       "    .dataframe thead th {\n",
       "        text-align: right;\n",
       "    }\n",
       "</style>\n",
       "<table border=\"1\" class=\"dataframe\">\n",
       "  <thead>\n",
       "    <tr style=\"text-align: right;\">\n",
       "      <th></th>\n",
       "      <th>Index</th>\n",
       "      <th>id</th>\n",
       "      <th>Gender</th>\n",
       "      <th>Customer Type</th>\n",
       "      <th>Age</th>\n",
       "      <th>Type of Travel</th>\n",
       "      <th>Class</th>\n",
       "      <th>Flight Distance</th>\n",
       "      <th>Inflight wifi service</th>\n",
       "      <th>Departure/Arrival time convenient</th>\n",
       "      <th>...</th>\n",
       "      <th>Inflight entertainment</th>\n",
       "      <th>On-board service</th>\n",
       "      <th>Leg room service</th>\n",
       "      <th>Baggage handling</th>\n",
       "      <th>Checkin service</th>\n",
       "      <th>Inflight service</th>\n",
       "      <th>Cleanliness</th>\n",
       "      <th>Departure Delay in Minutes</th>\n",
       "      <th>Arrival Delay in Minutes</th>\n",
       "      <th>satisfaction</th>\n",
       "    </tr>\n",
       "  </thead>\n",
       "  <tbody>\n",
       "    <tr>\n",
       "      <th>0</th>\n",
       "      <td>1</td>\n",
       "      <td>70172</td>\n",
       "      <td>Male</td>\n",
       "      <td>Loyal Customer</td>\n",
       "      <td>13</td>\n",
       "      <td>Personal Travel</td>\n",
       "      <td>Eco Plus</td>\n",
       "      <td>460</td>\n",
       "      <td>3</td>\n",
       "      <td>4</td>\n",
       "      <td>...</td>\n",
       "      <td>5</td>\n",
       "      <td>4</td>\n",
       "      <td>3</td>\n",
       "      <td>4</td>\n",
       "      <td>4</td>\n",
       "      <td>5</td>\n",
       "      <td>5</td>\n",
       "      <td>25</td>\n",
       "      <td>18</td>\n",
       "      <td>neutral or dissatisfied</td>\n",
       "    </tr>\n",
       "    <tr>\n",
       "      <th>1</th>\n",
       "      <td>2</td>\n",
       "      <td>5047</td>\n",
       "      <td>Male</td>\n",
       "      <td>disloyal Customer</td>\n",
       "      <td>25</td>\n",
       "      <td>Business travel</td>\n",
       "      <td>Business</td>\n",
       "      <td>235</td>\n",
       "      <td>3</td>\n",
       "      <td>2</td>\n",
       "      <td>...</td>\n",
       "      <td>1</td>\n",
       "      <td>1</td>\n",
       "      <td>5</td>\n",
       "      <td>3</td>\n",
       "      <td>1</td>\n",
       "      <td>4</td>\n",
       "      <td>1</td>\n",
       "      <td>1</td>\n",
       "      <td>6</td>\n",
       "      <td>neutral or dissatisfied</td>\n",
       "    </tr>\n",
       "    <tr>\n",
       "      <th>2</th>\n",
       "      <td>3</td>\n",
       "      <td>110028</td>\n",
       "      <td>Female</td>\n",
       "      <td>Loyal Customer</td>\n",
       "      <td>26</td>\n",
       "      <td>Business travel</td>\n",
       "      <td>Business</td>\n",
       "      <td>1142</td>\n",
       "      <td>2</td>\n",
       "      <td>2</td>\n",
       "      <td>...</td>\n",
       "      <td>5</td>\n",
       "      <td>4</td>\n",
       "      <td>3</td>\n",
       "      <td>4</td>\n",
       "      <td>4</td>\n",
       "      <td>4</td>\n",
       "      <td>5</td>\n",
       "      <td>0</td>\n",
       "      <td>0</td>\n",
       "      <td>satisfied</td>\n",
       "    </tr>\n",
       "    <tr>\n",
       "      <th>3</th>\n",
       "      <td>4</td>\n",
       "      <td>24026</td>\n",
       "      <td>Female</td>\n",
       "      <td>Loyal Customer</td>\n",
       "      <td>25</td>\n",
       "      <td>Business travel</td>\n",
       "      <td>Business</td>\n",
       "      <td>562</td>\n",
       "      <td>2</td>\n",
       "      <td>5</td>\n",
       "      <td>...</td>\n",
       "      <td>2</td>\n",
       "      <td>2</td>\n",
       "      <td>5</td>\n",
       "      <td>3</td>\n",
       "      <td>1</td>\n",
       "      <td>4</td>\n",
       "      <td>2</td>\n",
       "      <td>11</td>\n",
       "      <td>9</td>\n",
       "      <td>neutral or dissatisfied</td>\n",
       "    </tr>\n",
       "    <tr>\n",
       "      <th>4</th>\n",
       "      <td>5</td>\n",
       "      <td>119299</td>\n",
       "      <td>Male</td>\n",
       "      <td>Loyal Customer</td>\n",
       "      <td>61</td>\n",
       "      <td>Business travel</td>\n",
       "      <td>Business</td>\n",
       "      <td>214</td>\n",
       "      <td>3</td>\n",
       "      <td>3</td>\n",
       "      <td>...</td>\n",
       "      <td>3</td>\n",
       "      <td>3</td>\n",
       "      <td>4</td>\n",
       "      <td>4</td>\n",
       "      <td>3</td>\n",
       "      <td>3</td>\n",
       "      <td>3</td>\n",
       "      <td>0</td>\n",
       "      <td>0</td>\n",
       "      <td>satisfied</td>\n",
       "    </tr>\n",
       "    <tr>\n",
       "      <th>...</th>\n",
       "      <td>...</td>\n",
       "      <td>...</td>\n",
       "      <td>...</td>\n",
       "      <td>...</td>\n",
       "      <td>...</td>\n",
       "      <td>...</td>\n",
       "      <td>...</td>\n",
       "      <td>...</td>\n",
       "      <td>...</td>\n",
       "      <td>...</td>\n",
       "      <td>...</td>\n",
       "      <td>...</td>\n",
       "      <td>...</td>\n",
       "      <td>...</td>\n",
       "      <td>...</td>\n",
       "      <td>...</td>\n",
       "      <td>...</td>\n",
       "      <td>...</td>\n",
       "      <td>...</td>\n",
       "      <td>...</td>\n",
       "      <td>...</td>\n",
       "    </tr>\n",
       "    <tr>\n",
       "      <th>103589</th>\n",
       "      <td>103590</td>\n",
       "      <td>94171</td>\n",
       "      <td>Female</td>\n",
       "      <td>disloyal Customer</td>\n",
       "      <td>23</td>\n",
       "      <td>Business travel</td>\n",
       "      <td>Eco</td>\n",
       "      <td>192</td>\n",
       "      <td>2</td>\n",
       "      <td>1</td>\n",
       "      <td>...</td>\n",
       "      <td>2</td>\n",
       "      <td>3</td>\n",
       "      <td>1</td>\n",
       "      <td>4</td>\n",
       "      <td>2</td>\n",
       "      <td>3</td>\n",
       "      <td>2</td>\n",
       "      <td>3</td>\n",
       "      <td>0</td>\n",
       "      <td>neutral or dissatisfied</td>\n",
       "    </tr>\n",
       "    <tr>\n",
       "      <th>103590</th>\n",
       "      <td>103591</td>\n",
       "      <td>73097</td>\n",
       "      <td>Male</td>\n",
       "      <td>Loyal Customer</td>\n",
       "      <td>49</td>\n",
       "      <td>Business travel</td>\n",
       "      <td>Business</td>\n",
       "      <td>2347</td>\n",
       "      <td>4</td>\n",
       "      <td>4</td>\n",
       "      <td>...</td>\n",
       "      <td>5</td>\n",
       "      <td>5</td>\n",
       "      <td>5</td>\n",
       "      <td>5</td>\n",
       "      <td>5</td>\n",
       "      <td>5</td>\n",
       "      <td>4</td>\n",
       "      <td>0</td>\n",
       "      <td>0</td>\n",
       "      <td>satisfied</td>\n",
       "    </tr>\n",
       "    <tr>\n",
       "      <th>103591</th>\n",
       "      <td>103592</td>\n",
       "      <td>68825</td>\n",
       "      <td>Male</td>\n",
       "      <td>disloyal Customer</td>\n",
       "      <td>30</td>\n",
       "      <td>Business travel</td>\n",
       "      <td>Business</td>\n",
       "      <td>1995</td>\n",
       "      <td>1</td>\n",
       "      <td>1</td>\n",
       "      <td>...</td>\n",
       "      <td>4</td>\n",
       "      <td>3</td>\n",
       "      <td>2</td>\n",
       "      <td>4</td>\n",
       "      <td>5</td>\n",
       "      <td>5</td>\n",
       "      <td>4</td>\n",
       "      <td>7</td>\n",
       "      <td>14</td>\n",
       "      <td>neutral or dissatisfied</td>\n",
       "    </tr>\n",
       "    <tr>\n",
       "      <th>103592</th>\n",
       "      <td>103593</td>\n",
       "      <td>54173</td>\n",
       "      <td>Female</td>\n",
       "      <td>disloyal Customer</td>\n",
       "      <td>22</td>\n",
       "      <td>Business travel</td>\n",
       "      <td>Eco</td>\n",
       "      <td>1000</td>\n",
       "      <td>1</td>\n",
       "      <td>1</td>\n",
       "      <td>...</td>\n",
       "      <td>1</td>\n",
       "      <td>4</td>\n",
       "      <td>5</td>\n",
       "      <td>1</td>\n",
       "      <td>5</td>\n",
       "      <td>4</td>\n",
       "      <td>1</td>\n",
       "      <td>0</td>\n",
       "      <td>0</td>\n",
       "      <td>neutral or dissatisfied</td>\n",
       "    </tr>\n",
       "    <tr>\n",
       "      <th>103593</th>\n",
       "      <td>103594</td>\n",
       "      <td>62567</td>\n",
       "      <td>Male</td>\n",
       "      <td>Loyal Customer</td>\n",
       "      <td>27</td>\n",
       "      <td>Business travel</td>\n",
       "      <td>Business</td>\n",
       "      <td>1723</td>\n",
       "      <td>1</td>\n",
       "      <td>3</td>\n",
       "      <td>...</td>\n",
       "      <td>1</td>\n",
       "      <td>1</td>\n",
       "      <td>1</td>\n",
       "      <td>4</td>\n",
       "      <td>4</td>\n",
       "      <td>3</td>\n",
       "      <td>1</td>\n",
       "      <td>0</td>\n",
       "      <td>0</td>\n",
       "      <td>neutral or dissatisfied</td>\n",
       "    </tr>\n",
       "  </tbody>\n",
       "</table>\n",
       "<p>103594 rows × 25 columns</p>\n",
       "</div>"
      ],
      "text/plain": [
       "         Index      id  Gender      Customer Type  Age   Type of Travel  \\\n",
       "0            1   70172    Male     Loyal Customer   13  Personal Travel   \n",
       "1            2    5047    Male  disloyal Customer   25  Business travel   \n",
       "2            3  110028  Female     Loyal Customer   26  Business travel   \n",
       "3            4   24026  Female     Loyal Customer   25  Business travel   \n",
       "4            5  119299    Male     Loyal Customer   61  Business travel   \n",
       "...        ...     ...     ...                ...  ...              ...   \n",
       "103589  103590   94171  Female  disloyal Customer   23  Business travel   \n",
       "103590  103591   73097    Male     Loyal Customer   49  Business travel   \n",
       "103591  103592   68825    Male  disloyal Customer   30  Business travel   \n",
       "103592  103593   54173  Female  disloyal Customer   22  Business travel   \n",
       "103593  103594   62567    Male     Loyal Customer   27  Business travel   \n",
       "\n",
       "           Class  Flight Distance  Inflight wifi service  \\\n",
       "0       Eco Plus              460                      3   \n",
       "1       Business              235                      3   \n",
       "2       Business             1142                      2   \n",
       "3       Business              562                      2   \n",
       "4       Business              214                      3   \n",
       "...          ...              ...                    ...   \n",
       "103589       Eco              192                      2   \n",
       "103590  Business             2347                      4   \n",
       "103591  Business             1995                      1   \n",
       "103592       Eco             1000                      1   \n",
       "103593  Business             1723                      1   \n",
       "\n",
       "        Departure/Arrival time convenient  ...  Inflight entertainment  \\\n",
       "0                                       4  ...                       5   \n",
       "1                                       2  ...                       1   \n",
       "2                                       2  ...                       5   \n",
       "3                                       5  ...                       2   \n",
       "4                                       3  ...                       3   \n",
       "...                                   ...  ...                     ...   \n",
       "103589                                  1  ...                       2   \n",
       "103590                                  4  ...                       5   \n",
       "103591                                  1  ...                       4   \n",
       "103592                                  1  ...                       1   \n",
       "103593                                  3  ...                       1   \n",
       "\n",
       "        On-board service  Leg room service  Baggage handling  Checkin service  \\\n",
       "0                      4                 3                 4                4   \n",
       "1                      1                 5                 3                1   \n",
       "2                      4                 3                 4                4   \n",
       "3                      2                 5                 3                1   \n",
       "4                      3                 4                 4                3   \n",
       "...                  ...               ...               ...              ...   \n",
       "103589                 3                 1                 4                2   \n",
       "103590                 5                 5                 5                5   \n",
       "103591                 3                 2                 4                5   \n",
       "103592                 4                 5                 1                5   \n",
       "103593                 1                 1                 4                4   \n",
       "\n",
       "        Inflight service  Cleanliness  Departure Delay in Minutes  \\\n",
       "0                      5            5                          25   \n",
       "1                      4            1                           1   \n",
       "2                      4            5                           0   \n",
       "3                      4            2                          11   \n",
       "4                      3            3                           0   \n",
       "...                  ...          ...                         ...   \n",
       "103589                 3            2                           3   \n",
       "103590                 5            4                           0   \n",
       "103591                 5            4                           7   \n",
       "103592                 4            1                           0   \n",
       "103593                 3            1                           0   \n",
       "\n",
       "        Arrival Delay in Minutes             satisfaction  \n",
       "0                             18  neutral or dissatisfied  \n",
       "1                              6  neutral or dissatisfied  \n",
       "2                              0                satisfied  \n",
       "3                              9  neutral or dissatisfied  \n",
       "4                              0                satisfied  \n",
       "...                          ...                      ...  \n",
       "103589                         0  neutral or dissatisfied  \n",
       "103590                         0                satisfied  \n",
       "103591                        14  neutral or dissatisfied  \n",
       "103592                         0  neutral or dissatisfied  \n",
       "103593                         0  neutral or dissatisfied  \n",
       "\n",
       "[103594 rows x 25 columns]"
      ]
     },
     "execution_count": 103,
     "metadata": {},
     "output_type": "execute_result"
    }
   ],
   "source": [
    "df = pd.read_csv('train.csv')\n",
    "df"
   ]
  },
  {
   "cell_type": "code",
   "execution_count": 104,
   "metadata": {},
   "outputs": [
    {
     "data": {
      "text/plain": [
       "(103594, 25)"
      ]
     },
     "execution_count": 104,
     "metadata": {},
     "output_type": "execute_result"
    }
   ],
   "source": [
    "df.shape"
   ]
  },
  {
   "cell_type": "code",
   "execution_count": 105,
   "metadata": {},
   "outputs": [
    {
     "data": {
      "text/plain": [
       "Index(['Index', 'Gender', 'Customer Type', 'Age', 'Type of Travel', 'Class',\n",
       "       'Flight Distance', 'Inflight wifi service',\n",
       "       'Departure/Arrival time convenient', 'Ease of Online booking',\n",
       "       'Gate location', 'Food and drink', 'Online boarding', 'Seat comfort',\n",
       "       'Inflight entertainment', 'On-board service', 'Leg room service',\n",
       "       'Baggage handling', 'Checkin service', 'Inflight service',\n",
       "       'Cleanliness', 'Departure Delay in Minutes',\n",
       "       'Arrival Delay in Minutes'],\n",
       "      dtype='object')"
      ]
     },
     "execution_count": 105,
     "metadata": {},
     "output_type": "execute_result"
    }
   ],
   "source": [
    "regressor = df.drop(columns=['satisfaction','id']).columns\n",
    "regressor"
   ]
  },
  {
   "cell_type": "code",
   "execution_count": 106,
   "metadata": {},
   "outputs": [
    {
     "data": {
      "text/plain": [
       "Index(['Index', 'id', 'Age', 'Flight Distance', 'Inflight wifi service',\n",
       "       'Departure/Arrival time convenient', 'Ease of Online booking',\n",
       "       'Gate location', 'Food and drink', 'Online boarding', 'Seat comfort',\n",
       "       'Inflight entertainment', 'On-board service', 'Leg room service',\n",
       "       'Baggage handling', 'Checkin service', 'Inflight service',\n",
       "       'Cleanliness', 'Departure Delay in Minutes',\n",
       "       'Arrival Delay in Minutes'],\n",
       "      dtype='object')"
      ]
     },
     "execution_count": 106,
     "metadata": {},
     "output_type": "execute_result"
    }
   ],
   "source": [
    "numeric_columns = df.select_dtypes(include='number').columns\n",
    "numeric_columns"
   ]
  },
  {
   "cell_type": "code",
   "execution_count": 107,
   "metadata": {},
   "outputs": [
    {
     "data": {
      "text/plain": [
       "Index(['Gender', 'Customer Type', 'Type of Travel', 'Class', 'satisfaction'], dtype='object')"
      ]
     },
     "execution_count": 107,
     "metadata": {},
     "output_type": "execute_result"
    }
   ],
   "source": [
    "categorical_columns = df.select_dtypes(include='object').columns\n",
    "categorical_columns"
   ]
  },
  {
   "cell_type": "code",
   "execution_count": 108,
   "metadata": {},
   "outputs": [
    {
     "data": {
      "text/plain": [
       "Index                                [1, 2, 3, 4, 5, 6, 7, 8, 9, 10, 11, 12, 13, 14...\n",
       "id                                   [70172, 5047, 110028, 24026, 119299, 111157, 8...\n",
       "Gender                                                                  [Male, Female]\n",
       "Customer Type                                      [Loyal Customer, disloyal Customer]\n",
       "Age                                  [13, 25, 26, 61, 47, 52, 41, 20, 24, 12, 53, 3...\n",
       "Type of Travel                                      [Personal Travel, Business travel]\n",
       "Class                                                        [Eco Plus, Business, Eco]\n",
       "Flight Distance                      [460, 235, 1142, 562, 214, 1180, 1276, 2035, 8...\n",
       "Inflight wifi service                                               [3, 2, 4, 1, 5, 0]\n",
       "Departure/Arrival time convenient                                   [4, 2, 5, 3, 1, 0]\n",
       "Ease of Online booking                                              [3, 2, 5, 4, 1, 0]\n",
       "Gate location                                                       [1, 3, 2, 5, 4, 0]\n",
       "Food and drink                                                      [5, 1, 2, 4, 3, 0]\n",
       "Online boarding                                                     [3, 5, 2, 1, 4, 0]\n",
       "Seat comfort                                                        [5, 1, 2, 3, 4, 0]\n",
       "Inflight entertainment                                              [5, 1, 2, 3, 4, 0]\n",
       "On-board service                                                    [4, 1, 2, 3, 5, 0]\n",
       "Leg room service                                                    [3, 5, 4, 2, 1, 0]\n",
       "Baggage handling                                                       [4, 3, 5, 1, 2]\n",
       "Checkin service                                                     [4, 1, 3, 5, 2, 0]\n",
       "Inflight service                                                    [5, 4, 3, 1, 2, 0]\n",
       "Cleanliness                                                         [5, 1, 2, 3, 4, 0]\n",
       "Departure Delay in Minutes           [25, 1, 0, 11, 9, 4, 28, 43, 49, 7, 17, 52, 54...\n",
       "Arrival Delay in Minutes             [18, 6, 0, 9, 23, 8, 35, 51, 10, 5, 4, 29, 44,...\n",
       "satisfaction                                      [neutral or dissatisfied, satisfied]\n",
       "dtype: object"
      ]
     },
     "execution_count": 108,
     "metadata": {},
     "output_type": "execute_result"
    }
   ],
   "source": [
    "# Understanding the content of all unique values\n",
    "df.apply(lambda col: col.unique())"
   ]
  },
  {
   "attachments": {},
   "cell_type": "markdown",
   "metadata": {},
   "source": [
    "- <font color = yellow>Transfrom categorical variable into numerical variable by encoding applying into machine learning testing"
   ]
  },
  {
   "cell_type": "code",
   "execution_count": 109,
   "metadata": {},
   "outputs": [],
   "source": [
    "from sklearn.linear_model import LinearRegression\n",
    "\n",
    "df['satisfaction'] = df['satisfaction'].map({'neutral or dissatisfied': 0, 'satisfied': 1})\n",
    "df['Gender'] = df['Gender'].map({'Male': 1, 'Female': 2})\n",
    "df['Type of Travel'] = df['Type of Travel'].map({'Personal Travel': 1, 'Business travel': 2})\n",
    "df['Class'] = df['Class'].map({'Eco Plus': 1, 'Business': 2,'Eco':3})\n",
    "df['Customer Type'] = df['Customer Type'].map({'Loyal Customer':1,'disloyal Customer':0})"
   ]
  },
  {
   "cell_type": "code",
   "execution_count": 110,
   "metadata": {},
   "outputs": [
    {
     "data": {
      "text/plain": [
       "Index                                [1, 2, 3, 4, 5, 6, 7, 8, 9, 10, 11, 12, 13, 14...\n",
       "id                                   [70172, 5047, 110028, 24026, 119299, 111157, 8...\n",
       "Gender                                                                          [1, 2]\n",
       "Customer Type                                                                   [1, 0]\n",
       "Age                                  [13, 25, 26, 61, 47, 52, 41, 20, 24, 12, 53, 3...\n",
       "Type of Travel                                                                  [1, 2]\n",
       "Class                                                                        [1, 2, 3]\n",
       "Flight Distance                      [460, 235, 1142, 562, 214, 1180, 1276, 2035, 8...\n",
       "Inflight wifi service                                               [3, 2, 4, 1, 5, 0]\n",
       "Departure/Arrival time convenient                                   [4, 2, 5, 3, 1, 0]\n",
       "Ease of Online booking                                              [3, 2, 5, 4, 1, 0]\n",
       "Gate location                                                       [1, 3, 2, 5, 4, 0]\n",
       "Food and drink                                                      [5, 1, 2, 4, 3, 0]\n",
       "Online boarding                                                     [3, 5, 2, 1, 4, 0]\n",
       "Seat comfort                                                        [5, 1, 2, 3, 4, 0]\n",
       "Inflight entertainment                                              [5, 1, 2, 3, 4, 0]\n",
       "On-board service                                                    [4, 1, 2, 3, 5, 0]\n",
       "Leg room service                                                    [3, 5, 4, 2, 1, 0]\n",
       "Baggage handling                                                       [4, 3, 5, 1, 2]\n",
       "Checkin service                                                     [4, 1, 3, 5, 2, 0]\n",
       "Inflight service                                                    [5, 4, 3, 1, 2, 0]\n",
       "Cleanliness                                                         [5, 1, 2, 3, 4, 0]\n",
       "Departure Delay in Minutes           [25, 1, 0, 11, 9, 4, 28, 43, 49, 7, 17, 52, 54...\n",
       "Arrival Delay in Minutes             [18, 6, 0, 9, 23, 8, 35, 51, 10, 5, 4, 29, 44,...\n",
       "satisfaction                                                                    [0, 1]\n",
       "dtype: object"
      ]
     },
     "execution_count": 110,
     "metadata": {},
     "output_type": "execute_result"
    }
   ],
   "source": [
    "#  Reunderstanding the content of all unique values\n",
    "df.apply(lambda col: col.unique())"
   ]
  },
  {
   "attachments": {},
   "cell_type": "markdown",
   "metadata": {},
   "source": [
    "<font color = green|>b.) Identify confounders(confounding variables) and included them in the model"
   ]
  },
  {
   "attachments": {},
   "cell_type": "markdown",
   "metadata": {},
   "source": [
    "<font color = green|>Confounding variables</font> are variables that are associated with both the independent variable(s) and the dependent variable, and they can introduce bias and distort the relationship between the variables of interest. To identify potential confounders and include them in the model, you can follow these steps:\n",
    "\n",
    "1. Understand the research question: Clarify the research question and identify the variables that are hypothesized to be the main predictors (independent variables) and the outcome of interest (dependent variable).\n",
    "\n",
    "2. Conduct a literature review: Review existing literature to identify potential confounding variables that have been previously associated with both the independent and dependent variables. Look for studies that have investigated similar research questions or related topics.\n",
    "\n",
    "3. Consider causal knowledge: Use your knowledge of the subject matter and causal relationships to identify variables that could act as confounders. Consider variables that are on the causal pathway between the independent and dependent variables or those that are associated with both the exposure and outcome but are not part of the causal pathway.\n",
    "\n",
    "4. Analyze data distribution: Examine the distribution and relationship between the variables using techniques such as descriptive statistics, correlation analysis, or visualization methods. Look for variables that show a significant association with both the independent and dependent variables.\n",
    "\n",
    "5. Include potential confounders in the model: Once potential confounders are identified, include them as additional independent variables in the model. This helps to control for their influence on the relationship between the main predictors and the outcome. Adjusting for confounders can help isolate the true effect of the independent variables on the outcome.\n",
    "\n",
    "6. Assess the impact: Fit the model with the confounders included and examine the changes in the coefficients and significance levels of the main predictors. If the inclusion of confounders substantially changes the relationship between the independent variables and the outcome, it suggests their confounding effect.\n",
    "\n",
    "It's important to note that the identification and inclusion of confounders require subject matter expertise, careful consideration of the research question, and a thorough understanding of the data. Additionally, the availability of data on potential confounders is crucial for their inclusion in the model."
   ]
  },
  {
   "attachments": {},
   "cell_type": "markdown",
   "metadata": {},
   "source": [
    "<Font color = green|><p style='text-align:center'>Based on literature review we can conclude the Confounding Variable are such following :</p></font>\n",
    "- <font color = green|>Age:</font> Age may be associated with both the predictor variables (e.g., Gender, Type of Travel, Class) and customer satisfaction. For example, different age groups may have varying preferences or expectations when it comes to airline experiences.\n",
    "\n",
    "- <font color = green|>Type of Travel:</font> The purpose of travel (Personal or Business) may be associated with both the predictor variables (e.g., Gender, Class) and customer satisfaction. Business travelers, for instance, might have different satisfaction levels compared to personal travelers due to their specific needs and expectations.\n",
    "\n",
    "- <font color = green|>Class:</font> The class of travel (Eco Plus, Business, Eco) could be a confounding variable as it may be associated with both the predictor variables (e.g., Gender, Type of Travel) and customer satisfaction. Different classes may offer distinct services or amenities that can impact satisfaction levels.\n",
    "\n",
    "- <font color = green|>Gender:</font> The Gender(Male,Female) might be a confounding variable because of corresponding to predictor(Food and Drink,Checkin service, Inflight Entertainment)\n",
    "\n",
    "It is important to note that the identification of confounding variables requires a comprehensive analysis of the data, including statistical modeling and hypothesis testing. The impact of potential confounders can vary depending on the specific research question, dataset characteristics, and analytical techniques employed. Therefore, it is advisable to conduct a rigorous analysis to identify and appropriately account for confounding variables in the research study."
   ]
  },
  {
   "attachments": {},
   "cell_type": "markdown",
   "metadata": {},
   "source": [
    "<font color = pink><p style='text-align:center'>By checking correlation and graph representation we obtain the confounding variable as following : </font> \n",
    "- Inflight wifi service->(Ease of Online booking, Online boarding,)\n",
    "- Departure/Arrival time convenient->(Ease of Online booking, Gate location)\n",
    "- Ease of Online booking->(Inflight wifi service, Departure/Arrival Time convenient, Gate location, Online boarding)\n",
    "- Gate location->(Ease of Online booking, )"
   ]
  },
  {
   "attachments": {},
   "cell_type": "markdown",
   "metadata": {},
   "source": [
    "<font color = green|>c.) Identify colliders and included them in the model"
   ]
  },
  {
   "attachments": {},
   "cell_type": "markdown",
   "metadata": {},
   "source": []
  },
  {
   "attachments": {},
   "cell_type": "markdown",
   "metadata": {},
   "source": [
    "### <font color = yellow>II.) Fit the model"
   ]
  },
  {
   "attachments": {},
   "cell_type": "markdown",
   "metadata": {},
   "source": [
    "<font color = green|>a.) Try to test fit many models"
   ]
  },
  {
   "cell_type": "code",
   "execution_count": 111,
   "metadata": {},
   "outputs": [
    {
     "data": {
      "text/plain": [
       "(82875, 24)"
      ]
     },
     "execution_count": 111,
     "metadata": {},
     "output_type": "execute_result"
    }
   ],
   "source": [
    "from sklearn.metrics import classification_report\n",
    "from sklearn.model_selection import train_test_split\n",
    "from sklearn.metrics import mean_squared_error\n",
    "from sklearn.metrics import accuracy_score\n",
    "\n",
    "# Separate the independent variables (features) and the target variable\n",
    "X = df.drop('satisfaction', axis=1)\n",
    "y = df['satisfaction']\n",
    "\n",
    "# Split the data into training and testing sets\n",
    "X_train, X_test, y_train, y_test = train_test_split(X, y, test_size=0.2, random_state=42)\n",
    "X_train.shape"
   ]
  },
  {
   "cell_type": "code",
   "execution_count": 112,
   "metadata": {},
   "outputs": [
    {
     "data": {
      "text/plain": [
       "(20719, 24)"
      ]
     },
     "execution_count": 112,
     "metadata": {},
     "output_type": "execute_result"
    }
   ],
   "source": [
    "X_test.shape"
   ]
  },
  {
   "attachments": {},
   "cell_type": "markdown",
   "metadata": {},
   "source": [
    "- <Font color = yellow>Linear Regression"
   ]
  },
  {
   "cell_type": "code",
   "execution_count": 113,
   "metadata": {},
   "outputs": [
    {
     "name": "stdout",
     "output_type": "stream",
     "text": [
      "Mean Squared Error: 0.11272071732255068\n",
      "R-squared =  0.5419539419576749\n",
      "Adjusted_r_squared = 0.5414448789310997\n"
     ]
    }
   ],
   "source": [
    "from sklearn.model_selection import train_test_split\n",
    "from sklearn.linear_model import LinearRegression\n",
    "\n",
    "# Initialize the linear regression model\n",
    "model = LinearRegression()\n",
    "\n",
    "# Fit the model on the training data\n",
    "model.fit(X_train, y_train)\n",
    "\n",
    "# Predict on the test data\n",
    "y_pred = model.predict(X_test)\n",
    "\n",
    "# Calculate the mean squared error\n",
    "mse = mean_squared_error(y_test, y_pred)\n",
    "print(\"Mean Squared Error:\", mse)\n",
    "\n",
    "r_squared = model.score(X_test, y_test)\n",
    "print('R-squared = ',r_squared)\n",
    "\n",
    "# Get the R-squared value and the number of observations and predictors\n",
    "n = len(X_test)\n",
    "k = len(X_test.columns) - 1  # Subtract 1 to exclude the constant column\n",
    "# Calculate the adjusted R-squared\n",
    "adjusted_r_squared = 1 - ((1 - r_squared) * (n - 1) / (n - k - 1))\n",
    "print('Adjusted_r_squared =',adjusted_r_squared)"
   ]
  },
  {
   "cell_type": "code",
   "execution_count": 114,
   "metadata": {},
   "outputs": [
    {
     "name": "stdout",
     "output_type": "stream",
     "text": [
      "                            OLS Regression Results                            \n",
      "==============================================================================\n",
      "Dep. Variable:           satisfaction   R-squared:                       0.547\n",
      "Model:                            OLS   Adj. R-squared:                  0.546\n",
      "Method:                 Least Squares   F-statistic:                     4162.\n",
      "Date:                Tue, 23 May 2023   Prob (F-statistic):               0.00\n",
      "Time:                        19:26:52   Log-Likelihood:                -26608.\n",
      "No. Observations:               82875   AIC:                         5.327e+04\n",
      "Df Residuals:                   82850   BIC:                         5.350e+04\n",
      "Df Model:                          24                                         \n",
      "Covariance Type:            nonrobust                                         \n",
      "=====================================================================================================\n",
      "                                        coef    std err          t      P>|t|      [0.025      0.975]\n",
      "-----------------------------------------------------------------------------------------------------\n",
      "const                                -1.4075      0.013   -107.379      0.000      -1.433      -1.382\n",
      "Index                             -6.999e-08   3.87e-08     -1.808      0.071   -1.46e-07    5.88e-09\n",
      "id                                -3.861e-07   3.15e-08    -12.241      0.000   -4.48e-07   -3.24e-07\n",
      "Gender                               -0.0075      0.002     -3.205      0.001      -0.012      -0.003\n",
      "Customer Type                         0.3233      0.004     86.358      0.000       0.316       0.331\n",
      "Age                                  -0.0008   8.27e-05     -9.668      0.000      -0.001      -0.001\n",
      "Type of Travel                        0.4361      0.003    131.606      0.000       0.430       0.443\n",
      "Class                                -0.0303      0.002    -14.224      0.000      -0.035      -0.026\n",
      "Flight Distance                    1.521e-05   1.31e-06     11.598      0.000    1.26e-05    1.78e-05\n",
      "Inflight wifi service                 0.0597      0.001     43.883      0.000       0.057       0.062\n",
      "Departure/Arrival time convenient    -0.0163      0.001    -16.601      0.000      -0.018      -0.014\n",
      "Ease of Online booking               -0.0364      0.001    -26.676      0.000      -0.039      -0.034\n",
      "Gate location                         0.0043      0.001      3.868      0.000       0.002       0.006\n",
      "Food and drink                       -0.0028      0.001     -2.190      0.029      -0.005      -0.000\n",
      "Online boarding                       0.0843      0.001     69.882      0.000       0.082       0.087\n",
      "Seat comfort                          0.0123      0.001      9.039      0.000       0.010       0.015\n",
      "Inflight entertainment                0.0104      0.002      6.094      0.000       0.007       0.014\n",
      "On-board service                      0.0387      0.001     32.393      0.000       0.036       0.041\n",
      "Leg room service                      0.0352      0.001     34.915      0.000       0.033       0.037\n",
      "Baggage handling                      0.0203      0.001     15.062      0.000       0.018       0.023\n",
      "Checkin service                       0.0403      0.001     39.853      0.000       0.038       0.042\n",
      "Inflight service                      0.0179      0.001     12.555      0.000       0.015       0.021\n",
      "Cleanliness                           0.0254      0.001     16.990      0.000       0.023       0.028\n",
      "Departure Delay in Minutes            0.0006      0.000      5.540      0.000       0.000       0.001\n",
      "Arrival Delay in Minutes             -0.0012      0.000    -10.084      0.000      -0.001      -0.001\n",
      "==============================================================================\n",
      "Omnibus:                     4904.510   Durbin-Watson:                   2.011\n",
      "Prob(Omnibus):                  0.000   Jarque-Bera (JB):             7250.491\n",
      "Skew:                           0.515   Prob(JB):                         0.00\n",
      "Kurtosis:                       4.019   Cond. No.                     1.05e+06\n",
      "==============================================================================\n",
      "\n",
      "Notes:\n",
      "[1] Standard Errors assume that the covariance matrix of the errors is correctly specified.\n",
      "[2] The condition number is large, 1.05e+06. This might indicate that there are\n",
      "strong multicollinearity or other numerical problems.\n"
     ]
    }
   ],
   "source": [
    "# Add a constant column to the features (required by statsmodels)\n",
    "X = sm.add_constant(X_train)\n",
    "\n",
    "# Create a linear regression model\n",
    "model = sm.OLS(y_train, X)\n",
    "\n",
    "# Fit the model on the data\n",
    "results = model.fit()\n",
    "\n",
    "# Get the summary of the regression results\n",
    "print(results.summary())"
   ]
  },
  {
   "cell_type": "code",
   "execution_count": 115,
   "metadata": {},
   "outputs": [
    {
     "data": {
      "image/png": "[encoded data removed]",
      "text/plain": [
       "<Figure size 640x480 with 1 Axes>"
      ]
     },
     "metadata": {},
     "output_type": "display_data"
    }
   ],
   "source": [
    "import matplotlib.pyplot as plt\n",
    "plt.scatter(y_test, y_pred)\n",
    "plt.xlabel('Actual satisfaction scores')\n",
    "plt.ylabel('Predicted satisfaction scores')\n",
    "plt.show()"
   ]
  },
  {
   "cell_type": "code",
   "execution_count": null,
   "metadata": {},
   "outputs": [],
   "source": []
  },
  {
   "attachments": {},
   "cell_type": "markdown",
   "metadata": {},
   "source": [
    "- <Font color = yellow>Logistic Regression Model"
   ]
  },
  {
   "cell_type": "code",
   "execution_count": 116,
   "metadata": {},
   "outputs": [
    {
     "name": "stdout",
     "output_type": "stream",
     "text": [
      "Mean Squared Error: 0.31526618080023167\n",
      "R-squared =  0.6847338191997683\n",
      "Accuracy: 0.6847338191997683\n",
      "adjusted_r_squared = 0.6843834388103793\n",
      "              precision    recall  f1-score   support\n",
      "\n",
      "           0       0.73      0.69      0.71     11655\n",
      "           1       0.63      0.67      0.65      9064\n",
      "\n",
      "    accuracy                           0.68     20719\n",
      "   macro avg       0.68      0.68      0.68     20719\n",
      "weighted avg       0.69      0.68      0.69     20719\n",
      "\n"
     ]
    },
    {
     "name": "stderr",
     "output_type": "stream",
     "text": [
      "c:\\Users\\LH\\AppData\\Local\\Programs\\Python\\Python39\\lib\\site-packages\\sklearn\\linear_model\\_logistic.py:444: ConvergenceWarning: lbfgs failed to converge (status=1):\n",
      "STOP: TOTAL NO. of ITERATIONS REACHED LIMIT.\n",
      "\n",
      "Increase the number of iterations (max_iter) or scale the data as shown in:\n",
      "    https://scikit-learn.org/stable/modules/preprocessing.html\n",
      "Please also refer to the documentation for alternative solver options:\n",
      "    https://scikit-learn.org/stable/modules/linear_model.html#logistic-regression\n",
      "  n_iter_i = _check_optimize_result(\n"
     ]
    }
   ],
   "source": [
    "from sklearn.linear_model import LogisticRegression\n",
    "from sklearn.metrics import classification_report\n",
    "\n",
    "# Initialize the logistic regression model\n",
    "model = LogisticRegression()\n",
    "\n",
    "# Fit the model on the training data\n",
    "model.fit(X_train, y_train)\n",
    "\n",
    "# Predict on the test data\n",
    "y_pred = model.predict(X_test)\n",
    "\n",
    "# Calculate the mean squared error\n",
    "mse = mean_squared_error(y_test, y_pred)\n",
    "print(\"Mean Squared Error:\", mse)\n",
    "\n",
    "r_squared = model.score(X_test, y_test)\n",
    "print('R-squared = ',r_squared)\n",
    "\n",
    "# Calculate the accuracy of the model\n",
    "accuracy = accuracy_score(y_test, y_pred)\n",
    "print(\"Accuracy:\", accuracy)\n",
    "\n",
    "# Get the R-squared value and the number of observations and predictors\n",
    "n = len(X_test)\n",
    "k = len(X_test.columns) - 1  # Subtract 1 to exclude the constant column\n",
    "# Calculate the adjusted R-squared\n",
    "adjusted_r_squared = 1 - ((1 - r_squared) * (n - 1) / (n - k - 1))\n",
    "print('adjusted_r_squared =',adjusted_r_squared)\n",
    "\n",
    "# Generate a classification report\n",
    "report = classification_report(y_test, y_pred)\n",
    "print(report)"
   ]
  },
  {
   "cell_type": "code",
   "execution_count": 117,
   "metadata": {},
   "outputs": [
    {
     "name": "stdout",
     "output_type": "stream",
     "text": [
      "Optimization terminated successfully.\n",
      "         Current function value: 0.421561\n",
      "         Iterations 6\n",
      "                           Logit Regression Results                           \n",
      "==============================================================================\n",
      "Dep. Variable:           satisfaction   No. Observations:                82875\n",
      "Model:                          Logit   Df Residuals:                    82851\n",
      "Method:                           MLE   Df Model:                           23\n",
      "Date:                Tue, 23 May 2023   Pseudo R-squ.:                  0.3837\n",
      "Time:                        19:27:11   Log-Likelihood:                -34937.\n",
      "converged:                       True   LL-Null:                       -56684.\n",
      "Covariance Type:            nonrobust   LLR p-value:                     0.000\n",
      "=====================================================================================================\n",
      "                                        coef    std err          z      P>|z|      [0.025      0.975]\n",
      "-----------------------------------------------------------------------------------------------------\n",
      "Index                             -6.533e-06   3.14e-07    -20.821      0.000   -7.15e-06   -5.92e-06\n",
      "id                                -7.327e-06   2.61e-07    -28.090      0.000   -7.84e-06   -6.82e-06\n",
      "Gender                               -0.7169      0.018    -38.859      0.000      -0.753      -0.681\n",
      "Customer Type                         0.5807      0.027     21.579      0.000       0.528       0.633\n",
      "Age                                  -0.0184      0.001    -26.540      0.000      -0.020      -0.017\n",
      "Type of Travel                        0.9111      0.022     41.390      0.000       0.868       0.954\n",
      "Class                                -1.3647      0.014    -99.848      0.000      -1.391      -1.338\n",
      "Flight Distance                       0.0002   1.05e-05     14.924      0.000       0.000       0.000\n",
      "Inflight wifi service                 0.3777      0.012     32.601      0.000       0.355       0.400\n",
      "Departure/Arrival time convenient    -0.2103      0.008    -26.216      0.000      -0.226      -0.195\n",
      "Ease of Online booking               -0.1808      0.011    -15.722      0.000      -0.203      -0.158\n",
      "Gate location                        -0.1037      0.009    -11.534      0.000      -0.121      -0.086\n",
      "Food and drink                       -0.2288      0.010    -22.179      0.000      -0.249      -0.209\n",
      "Online boarding                       0.6059      0.010     59.963      0.000       0.586       0.626\n",
      "Seat comfort                          0.0292      0.011      2.648      0.008       0.008       0.051\n",
      "Inflight entertainment                0.4173      0.014     30.547      0.000       0.391       0.444\n",
      "On-board service                      0.2041      0.010     20.634      0.000       0.185       0.224\n",
      "Leg room service                      0.1648      0.008     19.782      0.000       0.149       0.181\n",
      "Baggage handling                     -0.0750      0.011     -6.835      0.000      -0.097      -0.054\n",
      "Checkin service                       0.1593      0.008     19.302      0.000       0.143       0.175\n",
      "Inflight service                     -0.1365      0.012    -11.813      0.000      -0.159      -0.114\n",
      "Cleanliness                           0.0059      0.012      0.501      0.616      -0.017       0.029\n",
      "Departure Delay in Minutes            0.0057      0.001      5.843      0.000       0.004       0.008\n",
      "Arrival Delay in Minutes             -0.0110      0.001    -11.452      0.000      -0.013      -0.009\n",
      "=====================================================================================================\n"
     ]
    }
   ],
   "source": [
    "import statsmodels.api as sm\n",
    "\n",
    "# Fit the logistic regression model\n",
    "model = sm.Logit(y_train, X_train)\n",
    "results = model.fit()\n",
    "\n",
    "# Get the summary of the logistic regression results\n",
    "print(results.summary())"
   ]
  },
  {
   "cell_type": "code",
   "execution_count": 120,
   "metadata": {},
   "outputs": [
    {
     "data": {
      "image/png": "[encoded data removed]",
      "text/plain": [
       "<Figure size 640x480 with 1 Axes>"
      ]
     },
     "metadata": {},
     "output_type": "display_data"
    }
   ],
   "source": [
    "import matplotlib.pyplot as plt\n",
    "plt.scatter(y_test, y_pred)\n",
    "plt.xlabel('Actual satisfaction scores')\n",
    "plt.ylabel('Predicted satisfaction scores')\n",
    "plt.show()"
   ]
  },
  {
   "attachments": {},
   "cell_type": "markdown",
   "metadata": {},
   "source": [
    "### <font color = yellow>III.) Observe p-value and interpretation"
   ]
  },
  {
   "attachments": {},
   "cell_type": "markdown",
   "metadata": {},
   "source": [
    "<font color = green|>Interpretation for linear regression result:</font>\n",
    "- \"Customer Type,\" \"Age,\" \"Type of Travel,\" \"Class,\" \"Flight Distance,\" \"Inflight wifi service,\" \"Departure/Arrival time convenient,\" \"Ease of Online booking,\" \"Gate location,\" \"Online boarding,\" \"Seat comfort,\" \"Inflight entertainment,\" \"On-board service,\" \"Leg room service,\" \"Baggage handling,\" \"Checkin service,\" \"Inflight service,\" \"Cleanliness,\" \"Departure Delay in Minutes,\" and \"Arrival Delay in Minutes\" all have p-values less than 0.05, indicating they are statistically significant predictors of satisfaction.\n",
    "\n",
    "- The \"Index\" and \"id\" variables have p-values greater than 0.05 (e.g., 0.071 and 0.000, respectively), suggesting weak evidence against the null hypothesis. This implies that these variables may not have a statistically significant effect on satisfaction."
   ]
  },
  {
   "attachments": {},
   "cell_type": "markdown",
   "metadata": {},
   "source": [
    "<font color = green|>Interpretation for logistic regression result:</font>\n",
    "- \"Index,\" \"id,\" \"Gender,\" \"Customer Type,\" \"Age,\" \"Type of Travel,\" \"Class,\" \"Flight Distance,\" \"Inflight wifi service,\" \"Departure/Arrival time convenient,\" \"Ease of Online booking,\" \"Gate location,\" \"Food and drink,\" \"Online boarding,\" \"Seat comfort,\" \"Inflight entertainment,\" \"On-board service,\" \"Leg room service,\" \"Baggage handling,\" \"Checkin service,\" \"Inflight service,\" \"Departure Delay in Minutes,\" and \"Arrival Delay in Minutes\" all have p-values less than 0.05, indicating they are statistically significant predictors of satisfaction.\n",
    "\n",
    "- \"Cleanliness\" variable has a p-value of 0.616, which is greater than 0.05. This suggests weak evidence against the null hypothesis, indicating that \"Cleanliness\" may not have a statistically significant effect on satisfaction.\n",
    "\n",
    "The coefficients represent the change in the log-odds of satisfaction for a one-unit change in the corresponding independent variable. For example, a one-unit increase in \"Inflight wifi service\" corresponds to an increase of approximately 0.378 in the log-odds of satisfaction.\n",
    "\n",
    "Positive coefficients indicate that an increase in the independent variable is associated with higher log-odds (higher probability) of satisfaction, while negative coefficients indicate that an increase in the independent variable is associated with lower log-odds (lower probability) of satisfaction."
   ]
  },
  {
   "cell_type": "code",
   "execution_count": null,
   "metadata": {},
   "outputs": [],
   "source": []
  },
  {
   "attachments": {},
   "cell_type": "markdown",
   "metadata": {},
   "source": [
    "### <font color = yellow>IV.) Check influential outliers"
   ]
  },
  {
   "attachments": {},
   "cell_type": "markdown",
   "metadata": {},
   "source": [
    "<font color = green|>a.) Looking at leverage"
   ]
  },
  {
   "cell_type": "code",
   "execution_count": null,
   "metadata": {},
   "outputs": [],
   "source": []
  },
  {
   "cell_type": "code",
   "execution_count": null,
   "metadata": {},
   "outputs": [],
   "source": []
  },
  {
   "attachments": {},
   "cell_type": "markdown",
   "metadata": {},
   "source": [
    "<font color = green|>b.) If there is, resolve the problem. Another model can be fitted without the influential outliers and then interpret and compare the two models. Leave it to scientists to choose which model we prefer the most."
   ]
  },
  {
   "cell_type": "code",
   "execution_count": null,
   "metadata": {},
   "outputs": [],
   "source": []
  },
  {
   "cell_type": "code",
   "execution_count": null,
   "metadata": {},
   "outputs": [],
   "source": []
  },
  {
   "attachments": {},
   "cell_type": "markdown",
   "metadata": {},
   "source": [
    "### <font color = yellow>V.) Check all model assumptions and resolve any problems related to your model assumptions"
   ]
  },
  {
   "cell_type": "code",
   "execution_count": null,
   "metadata": {},
   "outputs": [],
   "source": []
  },
  {
   "cell_type": "code",
   "execution_count": null,
   "metadata": {},
   "outputs": [],
   "source": []
  },
  {
   "attachments": {},
   "cell_type": "markdown",
   "metadata": {},
   "source": [
    "# <b><p style='text-align:center'><font color = yellow>Discussions and conclusions"
   ]
  },
  {
   "attachments": {},
   "cell_type": "markdown",
   "metadata": {},
   "source": [
    "### <font color = yellow>I.) Discuss your outputs/parameter estimates and more and compare them with previous research papers if any."
   ]
  },
  {
   "cell_type": "code",
   "execution_count": null,
   "metadata": {},
   "outputs": [],
   "source": []
  },
  {
   "cell_type": "code",
   "execution_count": null,
   "metadata": {},
   "outputs": [],
   "source": []
  },
  {
   "attachments": {},
   "cell_type": "markdown",
   "metadata": {},
   "source": [
    "### <font color = yellow>II.) State your conclusion on the objectives/research questions"
   ]
  },
  {
   "cell_type": "code",
   "execution_count": null,
   "metadata": {},
   "outputs": [],
   "source": []
  },
  {
   "cell_type": "code",
   "execution_count": null,
   "metadata": {},
   "outputs": [],
   "source": []
  },
  {
   "cell_type": "code",
   "execution_count": null,
   "metadata": {},
   "outputs": [],
   "source": []
  },
  {
   "attachments": {},
   "cell_type": "markdown",
   "metadata": {},
   "source": [
    "# <b><p style='text-align:center'><font color = yellow>Limitation and further research"
   ]
  },
  {
   "attachments": {},
   "cell_type": "markdown",
   "metadata": {},
   "source": [
    "### <Font color = yellow>I.) State if there are any concerns in your study that are out of your control"
   ]
  },
  {
   "attachments": {},
   "cell_type": "markdown",
   "metadata": {},
   "source": []
  },
  {
   "cell_type": "code",
   "execution_count": null,
   "metadata": {},
   "outputs": [],
   "source": []
  },
  {
   "attachments": {},
   "cell_type": "markdown",
   "metadata": {},
   "source": [
    "### <font color = yellow>II.) Suggest some potential methodologies/remedies that can help to get better model/analysis of the data"
   ]
  },
  {
   "attachments": {},
   "cell_type": "markdown",
   "metadata": {},
   "source": []
  },
  {
   "attachments": {},
   "cell_type": "markdown",
   "metadata": {},
   "source": []
  }
 ],
 "metadata": {
  "kernelspec": {
   "display_name": "Python 3",
   "language": "python",
   "name": "python3"
  },
  "language_info": {
   "codemirror_mode": {
    "name": "ipython",
    "version": 3
   },
   "file_extension": ".py",
   "mimetype": "text/x-python",
   "name": "python",
   "nbconvert_exporter": "python",
   "pygments_lexer": "ipython3",
   "version": "3.9.7"
  },
  "orig_nbformat": 4
 },
 "nbformat": 4,
 "nbformat_minor": 2
}
